{
 "cells": [
  {
   "cell_type": "code",
   "execution_count": 1,
   "metadata": {},
   "outputs": [],
   "source": [
    "from pathlib import Path\n",
    "import csv"
   ]
  },
  {
   "cell_type": "code",
   "execution_count": 4,
   "metadata": {},
   "outputs": [],
   "source": [
    "csvpath = Path('Resources/budget_data.csv')"
   ]
  },
  {
   "cell_type": "code",
   "execution_count": 26,
   "metadata": {},
   "outputs": [
    {
     "name": "stdout",
     "output_type": "stream",
     "text": [
      "Financial Analysis\n",
      "----------------------------\n",
      "Total Months: 86\n",
      "Total: $38382578\n",
      "Average  Change: $-2315.1176470588234\n",
      "Greatest Increase in Profits: Feb-2012 1926159\n",
      "Greatest Decrease in Profits: Sep-2013 -2196167\n"
     ]
    }
   ],
   "source": [
    "with open(csvpath, 'r') as csvfile:\n",
    "    csvreader = csv.reader(csvfile, delimiter=',')\n",
    "    header = next(csvreader)\n",
    "    month_count = 0\n",
    "    total_revenue = 0\n",
    "    change_in_revenue = 0\n",
    "    last_revenue = 0\n",
    "    sum_change_in_revenue = 0\n",
    "    max_increase_in_revenue = None\n",
    "    max_decrease_in_revenue = None\n",
    "    date_of_max_increase_in_revenue = None\n",
    "    date_of_max_decrease_in_revenue = None\n",
    "    output_string = []\n",
    "    for row in csvreader:\n",
    "        if month_count > 0:\n",
    "            change_in_revenue =  int(row[1]) - last_revenue\n",
    "            sum_change_in_revenue += change_in_revenue\n",
    "            if max_increase_in_revenue == None or change_in_revenue > max_increase_in_revenue:\n",
    "                max_increase_in_revenue = change_in_revenue\n",
    "                date_of_max_increase_in_revenue = row[0]\n",
    "            if max_decrease_in_revenue == None or change_in_revenue < max_decrease_in_revenue:\n",
    "                max_decrease_in_revenue = change_in_revenue\n",
    "                date_of_max_decrease_in_revenue = row[0]\n",
    "        month_count += 1\n",
    "        total_revenue += int(row[1])\n",
    "        last_revenue = int(row[1])\n",
    "        \n",
    "avg_change_in_revenue = sum_change_in_revenue/(month_count -1)\n",
    "output_string = [\"Financial Analysis\",\n",
    "                 \"----------------------------\",\n",
    "                 f\"Total Months: {month_count}\",\n",
    "                 f\"Total: ${total_revenue}\",\n",
    "                 f\"Average  Change: ${avg_change_in_revenue}\",\n",
    "                 f\"Greatest Increase in Profits: {date_of_max_increase_in_revenue} {max_increase_in_revenue}\",\n",
    "                 f\"Greatest Decrease in Profits: {date_of_max_decrease_in_revenue} {max_decrease_in_revenue}\"]\n",
    "\n",
    "\n",
    "output_path = Path(\"output.txt\")\n",
    "with open(output_path, 'w') as file:\n",
    "    for line in output_string:\n",
    "        print(line)\n",
    "        file.write(line + \"\\n\")\n",
    "        "
   ]
  },
  {
   "cell_type": "code",
   "execution_count": null,
   "metadata": {},
   "outputs": [],
   "source": []
  }
 ],
 "metadata": {
  "kernelspec": {
   "display_name": "Python 3",
   "language": "python",
   "name": "python3"
  },
  "language_info": {
   "codemirror_mode": {
    "name": "ipython",
    "version": 3
   },
   "file_extension": ".py",
   "mimetype": "text/x-python",
   "name": "python",
   "nbconvert_exporter": "python",
   "pygments_lexer": "ipython3",
   "version": "3.7.6"
  }
 },
 "nbformat": 4,
 "nbformat_minor": 4
}
